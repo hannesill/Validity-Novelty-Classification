{
 "cells": [
  {
   "cell_type": "code",
   "execution_count": 24,
   "outputs": [],
   "source": [
    "import pandas as pd"
   ],
   "metadata": {
    "collapsed": false,
    "ExecuteTime": {
     "start_time": "2023-09-27T22:26:12.184814Z",
     "end_time": "2023-09-27T22:26:12.188567Z"
    }
   }
  },
  {
   "cell_type": "code",
   "execution_count": 25,
   "metadata": {
    "collapsed": true,
    "ExecuteTime": {
     "start_time": "2023-09-27T22:26:12.194048Z",
     "end_time": "2023-09-27T22:26:12.254172Z"
    }
   },
   "outputs": [
    {
     "data": {
      "text/plain": "                               topic  \\\n0  TV viewing is harmful to children   \n1  TV viewing is harmful to children   \n2  TV viewing is harmful to children   \n3  TV viewing is harmful to children   \n4  TV viewing is harmful to children   \n\n                                             Premise  \\\n0  The popularity of TV watching is among the rea...   \n1  The popularity of TV watching is among the rea...   \n2  The popularity of TV watching is among the rea...   \n3  The popularity of TV watching is among the rea...   \n4  The popularity of TV watching is among the rea...   \n\n                                          Conclusion  Validity  \\\n0  Depression is a well-known psychological probl...         1   \n1    Children's TV viewing fosters negative emotions         1   \n2            Popularity of TV is harmful to children         1   \n3  Violence on TV and in movies encourages psycho...         1   \n4  US-India deal does not cap or limit Indian fis...        -1   \n\n  Validity-Confidence  Novelty Novelty-Confidence  \n0           confident        1          confident  \n1      very confident       -1           majority  \n2      very confident        1           majority  \n3      very confident        1           majority  \n4      very confident       -1     very confident  ",
      "text/html": "<div>\n<style scoped>\n    .dataframe tbody tr th:only-of-type {\n        vertical-align: middle;\n    }\n\n    .dataframe tbody tr th {\n        vertical-align: top;\n    }\n\n    .dataframe thead th {\n        text-align: right;\n    }\n</style>\n<table border=\"1\" class=\"dataframe\">\n  <thead>\n    <tr style=\"text-align: right;\">\n      <th></th>\n      <th>topic</th>\n      <th>Premise</th>\n      <th>Conclusion</th>\n      <th>Validity</th>\n      <th>Validity-Confidence</th>\n      <th>Novelty</th>\n      <th>Novelty-Confidence</th>\n    </tr>\n  </thead>\n  <tbody>\n    <tr>\n      <th>0</th>\n      <td>TV viewing is harmful to children</td>\n      <td>The popularity of TV watching is among the rea...</td>\n      <td>Depression is a well-known psychological probl...</td>\n      <td>1</td>\n      <td>confident</td>\n      <td>1</td>\n      <td>confident</td>\n    </tr>\n    <tr>\n      <th>1</th>\n      <td>TV viewing is harmful to children</td>\n      <td>The popularity of TV watching is among the rea...</td>\n      <td>Children's TV viewing fosters negative emotions</td>\n      <td>1</td>\n      <td>very confident</td>\n      <td>-1</td>\n      <td>majority</td>\n    </tr>\n    <tr>\n      <th>2</th>\n      <td>TV viewing is harmful to children</td>\n      <td>The popularity of TV watching is among the rea...</td>\n      <td>Popularity of TV is harmful to children</td>\n      <td>1</td>\n      <td>very confident</td>\n      <td>1</td>\n      <td>majority</td>\n    </tr>\n    <tr>\n      <th>3</th>\n      <td>TV viewing is harmful to children</td>\n      <td>The popularity of TV watching is among the rea...</td>\n      <td>Violence on TV and in movies encourages psycho...</td>\n      <td>1</td>\n      <td>very confident</td>\n      <td>1</td>\n      <td>majority</td>\n    </tr>\n    <tr>\n      <th>4</th>\n      <td>TV viewing is harmful to children</td>\n      <td>The popularity of TV watching is among the rea...</td>\n      <td>US-India deal does not cap or limit Indian fis...</td>\n      <td>-1</td>\n      <td>very confident</td>\n      <td>-1</td>\n      <td>very confident</td>\n    </tr>\n  </tbody>\n</table>\n</div>"
     },
     "execution_count": 25,
     "metadata": {},
     "output_type": "execute_result"
    }
   ],
   "source": [
    "# Read in the data\n",
    "df = pd.read_csv(\"TaskA_train.csv\")\n",
    "\n",
    "df.head()"
   ]
  },
  {
   "cell_type": "code",
   "execution_count": 26,
   "outputs": [
    {
     "data": {
      "text/plain": "topic                  0\nPremise                0\nConclusion             0\nValidity               0\nValidity-Confidence    0\nNovelty                0\nNovelty-Confidence     0\ndtype: int64"
     },
     "execution_count": 26,
     "metadata": {},
     "output_type": "execute_result"
    }
   ],
   "source": [
    "# Check for missing values\n",
    "df.isnull().sum()"
   ],
   "metadata": {
    "collapsed": false,
    "ExecuteTime": {
     "start_time": "2023-09-27T22:26:12.254557Z",
     "end_time": "2023-09-27T22:26:12.263216Z"
    }
   }
  },
  {
   "cell_type": "code",
   "execution_count": 27,
   "outputs": [
    {
     "name": "stdout",
     "output_type": "stream",
     "text": [
      "Validity\n",
      " 1    401\n",
      "-1    320\n",
      " 0     29\n",
      "Name: count, dtype: int64\n",
      "Validity-Confidence\n",
      "very confident    490\n",
      "majority          173\n",
      "confident          58\n",
      "defeasible         29\n",
      "Name: count, dtype: int64\n",
      "Novelty\n",
      "-1    595\n",
      " 1    123\n",
      " 0     32\n",
      "Name: count, dtype: int64\n",
      "Novelty-Confidence\n",
      "very confident    397\n",
      "majority          281\n",
      "confident          40\n",
      "defeasible         32\n",
      "Name: count, dtype: int64\n"
     ]
    }
   ],
   "source": [
    "# Check for class imbalance with separated labels\n",
    "print(df['Validity'].value_counts())\n",
    "print(df[\"Validity-Confidence\"].value_counts())\n",
    "print(df[\"Novelty\"].value_counts())\n",
    "print(df[\"Novelty-Confidence\"].value_counts())"
   ],
   "metadata": {
    "collapsed": false,
    "ExecuteTime": {
     "start_time": "2023-09-27T22:26:12.269281Z",
     "end_time": "2023-09-27T22:26:12.295625Z"
    }
   }
  },
  {
   "cell_type": "code",
   "execution_count": 28,
   "outputs": [
    {
     "name": "stdout",
     "output_type": "stream",
     "text": [
      "Validity: -1, Novelty: -1    293\n",
      "Validity: 1, Novelty: -1     289\n",
      "Validity: 1, Novelty: 1      105\n",
      "Validity: -1, Novelty: 1      15\n",
      "Validity: 0, Novelty: 0       13\n",
      "Validity: 0, Novelty: -1      13\n",
      "Validity: -1, Novelty: 0      12\n",
      "Validity: 1, Novelty: 0        7\n",
      "Validity: 0, Novelty: 1        3\n",
      "Name: count, dtype: int64\n"
     ]
    }
   ],
   "source": [
    "# Filter out rows with either 0 Validity or 0 Novelty\n",
    "# df_filtered = df[(df[\"Validity\"] != 0) & (df[\"Novelty\"] != 0)]\n",
    "df_filtered = df\n",
    "# Check for class imbalance with combined labels (validity and novelty)\n",
    "print((\"Validity: \" + df_filtered[\"Validity\"].astype(str) + \", Novelty: \" + df_filtered[\"Novelty\"].astype(str)).value_counts())"
   ],
   "metadata": {
    "collapsed": false,
    "ExecuteTime": {
     "start_time": "2023-09-27T22:26:12.291755Z",
     "end_time": "2023-09-27T22:26:12.370219Z"
    }
   }
  },
  {
   "cell_type": "code",
   "execution_count": 29,
   "outputs": [
    {
     "name": "stdout",
     "output_type": "stream",
     "text": [
      "Validity-Confidence\n",
      "very confident    490\n",
      "confident          58\n",
      "Name: count, dtype: int64\n",
      "Novelty-Confidence\n",
      "very confident    397\n",
      "confident          40\n",
      "Name: count, dtype: int64\n",
      "Validity\n",
      " 1    289\n",
      "-1    259\n",
      "Name: count, dtype: int64\n",
      "Novelty\n",
      "-1    397\n",
      " 1     40\n",
      "Name: count, dtype: int64\n"
     ]
    }
   ],
   "source": [
    "# Filter out rows with confidences of \"defeasible\", \"majority\"\n",
    "df_filtered_validity = df[(df[\"Validity-Confidence\"] != \"defeasible\") & (df[\"Validity-Confidence\"] != \"majority\")]\n",
    "df_filtered_novelty = df[(df[\"Novelty-Confidence\"] != \"defeasible\") & (df[\"Novelty-Confidence\"] != \"majority\")]\n",
    "\n",
    "# Print value counts of validity dataframe confidences\n",
    "print(df_filtered_validity[\"Validity-Confidence\"].value_counts())\n",
    "# Print value counts of novelty dataframe confidences\n",
    "print(df_filtered_novelty[\"Novelty-Confidence\"].value_counts())\n",
    "\n",
    "# Print value counts of validity dataframe labels\n",
    "print(df_filtered_validity[\"Validity\"].value_counts())\n",
    "# Print value counts of novelty dataframe labels\n",
    "print(df_filtered_novelty[\"Novelty\"].value_counts())"
   ],
   "metadata": {
    "collapsed": false,
    "ExecuteTime": {
     "start_time": "2023-09-27T22:26:12.313883Z",
     "end_time": "2023-09-27T22:26:12.448575Z"
    }
   }
  },
  {
   "cell_type": "code",
   "execution_count": 34,
   "outputs": [
    {
     "name": "stdout",
     "output_type": "stream",
     "text": [
      "Premise\n",
      "False    600\n",
      "True     150\n",
      "Name: count, dtype: int64\n",
      "Conclusion\n",
      "False    749\n",
      "True       1\n",
      "Name: count, dtype: int64\n",
      "70     Others complain that Mr. Mohammed might take a...\n",
      "71     Others complain that Mr. Mohammed might take a...\n",
      "72     Others complain that Mr. Mohammed might take a...\n",
      "73     Others complain that Mr. Mohammed might take a...\n",
      "74     The obligation to stand trial in an open court...\n",
      "                             ...                        \n",
      "700    Essentially only governments have standing arm...\n",
      "706    Essentially only governments have standing arm...\n",
      "711    Essentially only governments have standing arm...\n",
      "712    Essentially only governments have standing arm...\n",
      "729    Essentially only governments have standing arm...\n",
      "Name: Premise, Length: 150, dtype: object\n",
      "['’' '“' '”' 'á' '—' '‘' '–']\n",
      "['’']\n"
     ]
    }
   ],
   "source": [
    "# Data analysis\n",
    "# Are there special characters in the data?\n",
    "# Are there any patterns in the data?\n",
    "\n",
    "# Special characters\n",
    "print(df[\"Premise\"].str.contains(r'[^\\x00-\\x7F]+', regex=True).value_counts())\n",
    "print(df[\"Conclusion\"].str.contains(r'[^\\x00-\\x7F]+', regex=True).value_counts())\n",
    "\n",
    "# Print premises that contain special characters\n",
    "print(df[df[\"Premise\"].str.contains(r'[^\\x00-\\x7F]+', regex=True)][\"Premise\"])\n",
    "\n",
    "# Print all the unique special characters in the premises and conclusions\n",
    "print(df[df[\"Premise\"].str.contains(r'[^\\x00-\\x7F]+', regex=True)][\"Premise\"].str.findall(r'[^\\x00-\\x7F]+').explode().unique())\n",
    "print(df[df[\"Conclusion\"].str.contains(r'[^\\x00-\\x7F]+', regex=True)][\"Conclusion\"].str.findall(r'[^\\x00-\\x7F]+').explode().unique())"
   ],
   "metadata": {
    "collapsed": false,
    "ExecuteTime": {
     "start_time": "2023-09-27T22:39:50.603292Z",
     "end_time": "2023-09-27T22:39:50.629886Z"
    }
   }
  },
  {
   "cell_type": "code",
   "execution_count": null,
   "outputs": [],
   "source": [],
   "metadata": {
    "collapsed": false
   }
  }
 ],
 "metadata": {
  "kernelspec": {
   "display_name": "Python 3",
   "language": "python",
   "name": "python3"
  },
  "language_info": {
   "codemirror_mode": {
    "name": "ipython",
    "version": 2
   },
   "file_extension": ".py",
   "mimetype": "text/x-python",
   "name": "python",
   "nbconvert_exporter": "python",
   "pygments_lexer": "ipython2",
   "version": "2.7.6"
  }
 },
 "nbformat": 4,
 "nbformat_minor": 0
}
